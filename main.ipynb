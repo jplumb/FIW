{
 "cells": [
  {
   "cell_type": "markdown",
   "metadata": {},
   "source": [
    "## **Northeastern SMILE Lab - Recognizing Faces in the Wild**\n",
    "\n",
    "## Background\n",
    "\n",
    "The SMILE Lab at Northeastern focuses on the frontier research of applied machine learning, social media analytics, human-computer interaction, and high-level image and video understanding. Their research is driven by the explosion of diverse multimedia from the Internet, including both personal and publicly available photos and videos. They start by treating fundamental theory from learning algorithms as the soul of machine intelligence and arm it with visual perception.\n",
    "\n",
    "Northeastern University has been developing an automatic kinship classifier since 2010. However, the widespread adoption of this technology has been hindered by two primary factors:\n",
    "\n",
    "- Data Limitations: Existing image databases for kinship recognition are insufficient in size and diversity to accurately represent global familial relationships.\n",
    "\n",
    "- Model Complexity: The complex interplay of genetic and environmental factors influencing facial features necessitates a more advanced model than traditional computer vision algorithms, which are typically designed for higher-level tasks like facial recognition or object classification.\n",
    "\n",
    "## Objective\n",
    "\n",
    "Using the data provided in this competition, I built the following model to predict the probability of two individuals being related (1) based solely on a facial image of each person. "
   ]
  },
  {
   "cell_type": "markdown",
   "metadata": {},
   "source": [
    "## **Preliminaries**: Install the following Python modules."
   ]
  },
  {
   "cell_type": "code",
   "execution_count": 15,
   "metadata": {},
   "outputs": [
    {
     "name": "stdout",
     "output_type": "stream",
     "text": [
      "Defaulting to user installation because normal site-packages is not writeable\n",
      "Note: you may need to restart the kernel to use updated packages.\n"
     ]
    },
    {
     "name": "stderr",
     "output_type": "stream",
     "text": [
      "WARNING: Retrying (Retry(total=4, connect=None, read=None, redirect=None, status=None)) after connection broken by 'ProxyError('Cannot connect to proxy.', NewConnectionError('<pip._vendor.urllib3.connection.HTTPSConnection object at 0x0000024344FC8170>: Failed to establish a new connection: [Errno 11001] getaddrinfo failed'))': /simple/collections/\n",
      "WARNING: Retrying (Retry(total=3, connect=None, read=None, redirect=None, status=None)) after connection broken by 'ProxyError('Cannot connect to proxy.', NewConnectionError('<pip._vendor.urllib3.connection.HTTPSConnection object at 0x0000024346200C20>: Failed to establish a new connection: [Errno 11001] getaddrinfo failed'))': /simple/collections/\n",
      "WARNING: Retrying (Retry(total=2, connect=None, read=None, redirect=None, status=None)) after connection broken by 'ProxyError('Cannot connect to proxy.', NewConnectionError('<pip._vendor.urllib3.connection.HTTPSConnection object at 0x0000024344AFDA60>: Failed to establish a new connection: [Errno 11001] getaddrinfo failed'))': /simple/collections/\n",
      "WARNING: Retrying (Retry(total=1, connect=None, read=None, redirect=None, status=None)) after connection broken by 'ProxyError('Cannot connect to proxy.', NewConnectionError('<pip._vendor.urllib3.connection.HTTPSConnection object at 0x000002434621BE60>: Failed to establish a new connection: [Errno 11001] getaddrinfo failed'))': /simple/collections/\n",
      "WARNING: Retrying (Retry(total=0, connect=None, read=None, redirect=None, status=None)) after connection broken by 'ProxyError('Cannot connect to proxy.', NewConnectionError('<pip._vendor.urllib3.connection.HTTPSConnection object at 0x0000024346254380>: Failed to establish a new connection: [Errno 11001] getaddrinfo failed'))': /simple/collections/\n",
      "ERROR: Could not find a version that satisfies the requirement collections (from versions: none)\n",
      "ERROR: No matching distribution found for collections\n"
     ]
    },
    {
     "name": "stdout",
     "output_type": "stream",
     "text": [
      "Defaulting to user installation because normal site-packages is not writeable\n",
      "Note: you may need to restart the kernel to use updated packages.\n"
     ]
    },
    {
     "name": "stderr",
     "output_type": "stream",
     "text": [
      "WARNING: Retrying (Retry(total=4, connect=None, read=None, redirect=None, status=None)) after connection broken by 'ProxyError('Cannot connect to proxy.', NewConnectionError('<pip._vendor.urllib3.connection.HTTPSConnection object at 0x000001D573F3DB50>: Failed to establish a new connection: [Errno 11001] getaddrinfo failed'))': /simple/glob/\n",
      "WARNING: Retrying (Retry(total=3, connect=None, read=None, redirect=None, status=None)) after connection broken by 'ProxyError('Cannot connect to proxy.', NewConnectionError('<pip._vendor.urllib3.connection.HTTPSConnection object at 0x000001D5739BA540>: Failed to establish a new connection: [Errno 11001] getaddrinfo failed'))': /simple/glob/\n",
      "WARNING: Retrying (Retry(total=2, connect=None, read=None, redirect=None, status=None)) after connection broken by 'ProxyError('Cannot connect to proxy.', NewConnectionError('<pip._vendor.urllib3.connection.HTTPSConnection object at 0x000001D573F301D0>: Failed to establish a new connection: [Errno 11001] getaddrinfo failed'))': /simple/glob/\n",
      "WARNING: Retrying (Retry(total=1, connect=None, read=None, redirect=None, status=None)) after connection broken by 'ProxyError('Cannot connect to proxy.', NewConnectionError('<pip._vendor.urllib3.connection.HTTPSConnection object at 0x000001D573F30290>: Failed to establish a new connection: [Errno 11001] getaddrinfo failed'))': /simple/glob/\n",
      "WARNING: Retrying (Retry(total=0, connect=None, read=None, redirect=None, status=None)) after connection broken by 'ProxyError('Cannot connect to proxy.', NewConnectionError('<pip._vendor.urllib3.connection.HTTPSConnection object at 0x000001D573F54F80>: Failed to establish a new connection: [Errno 11001] getaddrinfo failed'))': /simple/glob/\n",
      "ERROR: Could not find a version that satisfies the requirement glob (from versions: none)\n",
      "ERROR: No matching distribution found for glob\n"
     ]
    },
    {
     "name": "stdout",
     "output_type": "stream",
     "text": [
      "Defaulting to user installation because normal site-packages is not writeable\n",
      "Requirement already satisfied: kaggle in c:\\users\\jplumb\\appdata\\local\\packages\\pythonsoftwarefoundation.python.3.12_qbz5n2kfra8p0\\localcache\\local-packages\\python312\\site-packages (1.6.17)\n",
      "Requirement already satisfied: six>=1.10 in c:\\users\\jplumb\\appdata\\local\\packages\\pythonsoftwarefoundation.python.3.12_qbz5n2kfra8p0\\localcache\\local-packages\\python312\\site-packages (from kaggle) (1.16.0)\n",
      "Requirement already satisfied: certifi>=2023.7.22 in c:\\users\\jplumb\\appdata\\local\\packages\\pythonsoftwarefoundation.python.3.12_qbz5n2kfra8p0\\localcache\\local-packages\\python312\\site-packages (from kaggle) (2024.7.4)\n",
      "Requirement already satisfied: python-dateutil in c:\\users\\jplumb\\appdata\\local\\packages\\pythonsoftwarefoundation.python.3.12_qbz5n2kfra8p0\\localcache\\local-packages\\python312\\site-packages (from kaggle) (2.9.0.post0)\n",
      "Requirement already satisfied: requests in c:\\users\\jplumb\\appdata\\local\\packages\\pythonsoftwarefoundation.python.3.12_qbz5n2kfra8p0\\localcache\\local-packages\\python312\\site-packages (from kaggle) (2.32.3)\n",
      "Requirement already satisfied: tqdm in c:\\users\\jplumb\\appdata\\local\\packages\\pythonsoftwarefoundation.python.3.12_qbz5n2kfra8p0\\localcache\\local-packages\\python312\\site-packages (from kaggle) (4.66.5)\n",
      "Requirement already satisfied: python-slugify in c:\\users\\jplumb\\appdata\\local\\packages\\pythonsoftwarefoundation.python.3.12_qbz5n2kfra8p0\\localcache\\local-packages\\python312\\site-packages (from kaggle) (8.0.4)\n",
      "Requirement already satisfied: urllib3 in c:\\users\\jplumb\\appdata\\local\\packages\\pythonsoftwarefoundation.python.3.12_qbz5n2kfra8p0\\localcache\\local-packages\\python312\\site-packages (from kaggle) (2.2.2)\n",
      "Requirement already satisfied: bleach in c:\\users\\jplumb\\appdata\\local\\packages\\pythonsoftwarefoundation.python.3.12_qbz5n2kfra8p0\\localcache\\local-packages\\python312\\site-packages (from kaggle) (6.1.0)\n",
      "Requirement already satisfied: webencodings in c:\\users\\jplumb\\appdata\\local\\packages\\pythonsoftwarefoundation.python.3.12_qbz5n2kfra8p0\\localcache\\local-packages\\python312\\site-packages (from bleach->kaggle) (0.5.1)\n",
      "Requirement already satisfied: text-unidecode>=1.3 in c:\\users\\jplumb\\appdata\\local\\packages\\pythonsoftwarefoundation.python.3.12_qbz5n2kfra8p0\\localcache\\local-packages\\python312\\site-packages (from python-slugify->kaggle) (1.3)\n",
      "Requirement already satisfied: charset-normalizer<4,>=2 in c:\\users\\jplumb\\appdata\\local\\packages\\pythonsoftwarefoundation.python.3.12_qbz5n2kfra8p0\\localcache\\local-packages\\python312\\site-packages (from requests->kaggle) (3.3.2)\n",
      "Requirement already satisfied: idna<4,>=2.5 in c:\\users\\jplumb\\appdata\\local\\packages\\pythonsoftwarefoundation.python.3.12_qbz5n2kfra8p0\\localcache\\local-packages\\python312\\site-packages (from requests->kaggle) (3.7)\n",
      "Requirement already satisfied: colorama in c:\\users\\jplumb\\appdata\\local\\packages\\pythonsoftwarefoundation.python.3.12_qbz5n2kfra8p0\\localcache\\local-packages\\python312\\site-packages (from tqdm->kaggle) (0.4.6)\n",
      "Note: you may need to restart the kernel to use updated packages.\n",
      "Note: you may need to restart the kernel to use updated packages.\n",
      "Defaulting to user installation because normal site-packages is not writeable\n"
     ]
    },
    {
     "name": "stderr",
     "output_type": "stream",
     "text": [
      "WARNING: Retrying (Retry(total=4, connect=None, read=None, redirect=None, status=None)) after connection broken by 'ProxyError('Cannot connect to proxy.', NewConnectionError('<pip._vendor.urllib3.connection.HTTPSConnection object at 0x0000029814332810>: Failed to establish a new connection: [Errno 11001] getaddrinfo failed'))': /simple/os/\n",
      "WARNING: Retrying (Retry(total=3, connect=None, read=None, redirect=None, status=None)) after connection broken by 'ProxyError('Cannot connect to proxy.', NewConnectionError('<pip._vendor.urllib3.connection.HTTPSConnection object at 0x00000298129FCF50>: Failed to establish a new connection: [Errno 11001] getaddrinfo failed'))': /simple/os/\n",
      "WARNING: Retrying (Retry(total=2, connect=None, read=None, redirect=None, status=None)) after connection broken by 'ProxyError('Cannot connect to proxy.', NewConnectionError('<pip._vendor.urllib3.connection.HTTPSConnection object at 0x000002981431BE30>: Failed to establish a new connection: [Errno 11001] getaddrinfo failed'))': /simple/os/\n",
      "WARNING: Retrying (Retry(total=1, connect=None, read=None, redirect=None, status=None)) after connection broken by 'ProxyError('Cannot connect to proxy.', NewConnectionError('<pip._vendor.urllib3.connection.HTTPSConnection object at 0x0000029814354C20>: Failed to establish a new connection: [Errno 11001] getaddrinfo failed'))': /simple/os/\n",
      "WARNING: Retrying (Retry(total=0, connect=None, read=None, redirect=None, status=None)) after connection broken by 'ProxyError('Cannot connect to proxy.', NewConnectionError('<pip._vendor.urllib3.connection.HTTPSConnection object at 0x0000029814355BE0>: Failed to establish a new connection: [Errno 11001] getaddrinfo failed'))': /simple/os/\n",
      "ERROR: Could not find a version that satisfies the requirement os (from versions: none)\n",
      "ERROR: No matching distribution found for os\n"
     ]
    },
    {
     "name": "stdout",
     "output_type": "stream",
     "text": [
      "Defaulting to user installation because normal site-packages is not writeableNote: you may need to restart the kernel to use updated packages.\n",
      "\n",
      "Requirement already satisfied: pandas in c:\\users\\jplumb\\appdata\\local\\packages\\pythonsoftwarefoundation.python.3.12_qbz5n2kfra8p0\\localcache\\local-packages\\python312\\site-packages (2.2.2)\n",
      "Requirement already satisfied: numpy>=1.26.0 in c:\\users\\jplumb\\appdata\\local\\packages\\pythonsoftwarefoundation.python.3.12_qbz5n2kfra8p0\\localcache\\local-packages\\python312\\site-packages (from pandas) (1.26.4)\n",
      "Requirement already satisfied: python-dateutil>=2.8.2 in c:\\users\\jplumb\\appdata\\local\\packages\\pythonsoftwarefoundation.python.3.12_qbz5n2kfra8p0\\localcache\\local-packages\\python312\\site-packages (from pandas) (2.9.0.post0)\n",
      "Requirement already satisfied: pytz>=2020.1 in c:\\users\\jplumb\\appdata\\local\\packages\\pythonsoftwarefoundation.python.3.12_qbz5n2kfra8p0\\localcache\\local-packages\\python312\\site-packages (from pandas) (2024.1)\n",
      "Requirement already satisfied: tzdata>=2022.7 in c:\\users\\jplumb\\appdata\\local\\packages\\pythonsoftwarefoundation.python.3.12_qbz5n2kfra8p0\\localcache\\local-packages\\python312\\site-packages (from pandas) (2024.1)\n",
      "Requirement already satisfied: six>=1.5 in c:\\users\\jplumb\\appdata\\local\\packages\\pythonsoftwarefoundation.python.3.12_qbz5n2kfra8p0\\localcache\\local-packages\\python312\\site-packages (from python-dateutil>=2.8.2->pandas) (1.16.0)\n",
      "Defaulting to user installation because normal site-packages is not writeable\n",
      "Requirement already satisfied: matplotlib in c:\\users\\jplumb\\appdata\\local\\packages\\pythonsoftwarefoundation.python.3.12_qbz5n2kfra8p0\\localcache\\local-packages\\python312\\site-packages (3.9.1)\n",
      "Requirement already satisfied: contourpy>=1.0.1 in c:\\users\\jplumb\\appdata\\local\\packages\\pythonsoftwarefoundation.python.3.12_qbz5n2kfra8p0\\localcache\\local-packages\\python312\\site-packages (from matplotlib) (1.2.1)\n",
      "Requirement already satisfied: cycler>=0.10 in c:\\users\\jplumb\\appdata\\local\\packages\\pythonsoftwarefoundation.python.3.12_qbz5n2kfra8p0\\localcache\\local-packages\\python312\\site-packages (from matplotlib) (0.12.1)\n",
      "Requirement already satisfied: fonttools>=4.22.0 in c:\\users\\jplumb\\appdata\\local\\packages\\pythonsoftwarefoundation.python.3.12_qbz5n2kfra8p0\\localcache\\local-packages\\python312\\site-packages (from matplotlib) (4.53.1)\n",
      "Requirement already satisfied: kiwisolver>=1.3.1 in c:\\users\\jplumb\\appdata\\local\\packages\\pythonsoftwarefoundation.python.3.12_qbz5n2kfra8p0\\localcache\\local-packages\\python312\\site-packages (from matplotlib) (1.4.5)\n",
      "Requirement already satisfied: numpy>=1.23 in c:\\users\\jplumb\\appdata\\local\\packages\\pythonsoftwarefoundation.python.3.12_qbz5n2kfra8p0\\localcache\\local-packages\\python312\\site-packages (from matplotlib) (1.26.4)\n",
      "Requirement already satisfied: packaging>=20.0 in c:\\users\\jplumb\\appdata\\local\\packages\\pythonsoftwarefoundation.python.3.12_qbz5n2kfra8p0\\localcache\\local-packages\\python312\\site-packages (from matplotlib) (24.1)\n",
      "Requirement already satisfied: pillow>=8 in c:\\users\\jplumb\\appdata\\local\\packages\\pythonsoftwarefoundation.python.3.12_qbz5n2kfra8p0\\localcache\\local-packages\\python312\\site-packages (from matplotlib) (10.4.0)\n",
      "Requirement already satisfied: pyparsing>=2.3.1 in c:\\users\\jplumb\\appdata\\local\\packages\\pythonsoftwarefoundation.python.3.12_qbz5n2kfra8p0\\localcache\\local-packages\\python312\\site-packages (from matplotlib) (3.1.2)\n",
      "Requirement already satisfied: python-dateutil>=2.7 in c:\\users\\jplumb\\appdata\\local\\packages\\pythonsoftwarefoundation.python.3.12_qbz5n2kfra8p0\\localcache\\local-packages\\python312\\site-packages (from matplotlib) (2.9.0.post0)\n",
      "Requirement already satisfied: six>=1.5 in c:\\users\\jplumb\\appdata\\local\\packages\\pythonsoftwarefoundation.python.3.12_qbz5n2kfra8p0\\localcache\\local-packages\\python312\\site-packages (from python-dateutil>=2.7->matplotlib) (1.16.0)\n",
      "Note: you may need to restart the kernel to use updated packages.\n",
      "Defaulting to user installation because normal site-packages is not writeable\n",
      "Note: you may need to restart the kernel to use updated packages.\n"
     ]
    },
    {
     "name": "stderr",
     "output_type": "stream",
     "text": [
      "WARNING: Retrying (Retry(total=4, connect=None, read=None, redirect=None, status=None)) after connection broken by 'ProxyError('Cannot connect to proxy.', NewConnectionError('<pip._vendor.urllib3.connection.HTTPSConnection object at 0x000001E172CA8C20>: Failed to establish a new connection: [Errno 11001] getaddrinfo failed'))': /simple/sklearn/\n",
      "WARNING: Retrying (Retry(total=3, connect=None, read=None, redirect=None, status=None)) after connection broken by 'ProxyError('Cannot connect to proxy.', NewConnectionError('<pip._vendor.urllib3.connection.HTTPSConnection object at 0x000001E172D27E90>: Failed to establish a new connection: [Errno 11001] getaddrinfo failed'))': /simple/sklearn/\n",
      "WARNING: Retrying (Retry(total=2, connect=None, read=None, redirect=None, status=None)) after connection broken by 'ProxyError('Cannot connect to proxy.', NewConnectionError('<pip._vendor.urllib3.connection.HTTPSConnection object at 0x000001E174432270>: Failed to establish a new connection: [Errno 11001] getaddrinfo failed'))': /simple/sklearn/\n",
      "WARNING: Retrying (Retry(total=1, connect=None, read=None, redirect=None, status=None)) after connection broken by 'ProxyError('Cannot connect to proxy.', NewConnectionError('<pip._vendor.urllib3.connection.HTTPSConnection object at 0x000001E1744554C0>: Failed to establish a new connection: [Errno 11001] getaddrinfo failed'))': /simple/sklearn/\n",
      "WARNING: Retrying (Retry(total=0, connect=None, read=None, redirect=None, status=None)) after connection broken by 'ProxyError('Cannot connect to proxy.', NewConnectionError('<pip._vendor.urllib3.connection.HTTPSConnection object at 0x000001E1744560F0>: Failed to establish a new connection: [Errno 11001] getaddrinfo failed'))': /simple/sklearn/\n",
      "ERROR: Could not find a version that satisfies the requirement sklearn (from versions: none)\n",
      "ERROR: No matching distribution found for sklearn\n"
     ]
    },
    {
     "name": "stdout",
     "output_type": "stream",
     "text": [
      "Defaulting to user installation because normal site-packages is not writeable\n",
      "Note: you may need to restart the kernel to use updated packages.\n"
     ]
    },
    {
     "name": "stderr",
     "output_type": "stream",
     "text": [
      "WARNING: Retrying (Retry(total=4, connect=None, read=None, redirect=None, status=None)) after connection broken by 'ProxyError('Cannot connect to proxy.', NewConnectionError('<pip._vendor.urllib3.connection.HTTPSConnection object at 0x0000026FBA01BFE0>: Failed to establish a new connection: [Errno 11001] getaddrinfo failed'))': /simple/zipfile/\n",
      "WARNING: Retrying (Retry(total=3, connect=None, read=None, redirect=None, status=None)) after connection broken by 'ProxyError('Cannot connect to proxy.', NewConnectionError('<pip._vendor.urllib3.connection.HTTPSConnection object at 0x0000026FB8CE53D0>: Failed to establish a new connection: [Errno 11001] getaddrinfo failed'))': /simple/zipfile/\n",
      "WARNING: Retrying (Retry(total=2, connect=None, read=None, redirect=None, status=None)) after connection broken by 'ProxyError('Cannot connect to proxy.', NewConnectionError('<pip._vendor.urllib3.connection.HTTPSConnection object at 0x0000026FB8CBA540>: Failed to establish a new connection: [Errno 11001] getaddrinfo failed'))': /simple/zipfile/\n",
      "WARNING: Retrying (Retry(total=1, connect=None, read=None, redirect=None, status=None)) after connection broken by 'ProxyError('Cannot connect to proxy.', NewConnectionError('<pip._vendor.urllib3.connection.HTTPSConnection object at 0x0000026FBA030110>: Failed to establish a new connection: [Errno 11001] getaddrinfo failed'))': /simple/zipfile/\n",
      "WARNING: Retrying (Retry(total=0, connect=None, read=None, redirect=None, status=None)) after connection broken by 'ProxyError('Cannot connect to proxy.', NewConnectionError('<pip._vendor.urllib3.connection.HTTPSConnection object at 0x0000026FBA054AA0>: Failed to establish a new connection: [Errno 11001] getaddrinfo failed'))': /simple/zipfile/\n",
      "ERROR: Could not find a version that satisfies the requirement zipfile (from versions: none)\n",
      "ERROR: No matching distribution found for zipfile\n"
     ]
    }
   ],
   "source": [
    "# If they are not already installed, this cell installs the modules used in this solution.\n",
    "%pip install collections\n",
    "%pip install glob\n",
    "%pip install kaggle\n",
    "%pip install os\n",
    "%pip install pandas\n",
    "%pip install matplotlib\n",
    "%pip install sklearn\n",
    "%pip install zipfile"
   ]
  },
  {
   "cell_type": "markdown",
   "metadata": {},
   "source": [
    "## **Step 1**: Download the official Kaggle competition data (a.k.a. FIW data).\n",
    "\n",
    "***Before executing the following cell***, please review section 7 of the rules: https://www.kaggle.com/competitions/recognizing-faces-in-the-wild/rules#7-competition-data. \n",
    "\n",
    "All usages of FIW data should cite the following papers:\n",
    "\n",
    "*Joseph P Robinson, Ming Shao, Hongfu Liu, Yue Wu, Timothy Gillis, and Yun Fu. \"Visual Kinship Recognition of Families In the Wild\" IEEE TPAMI Special Edition: Computational Face (2018).\n",
    "Joseph P Robinson, Ming Shao, Handong Zhao, Yue Wu, Timothy Gillis, Yun Fu. \"Recognizing Families In the Wild (RFIW): Data Challenge Workshop in conjunction with ACM MM 2017,\" ACM Multimedia Conference: Workshop on RFIW (2017).\n",
    "Shuyang Wang, Joseph P Robinson, and Yun Fu. “Kinship Verification on Families in the Wild with Marginalized Denoising Metric Learning,” in IEEE Automatic Face and Gesture Recognition (2017).\n",
    "Joseph P Robinson, Ming Shao, Yue Wu, and Yun Fu. “Families In the Wild (FIW): large-scale kinship image database and benchmarks.\" in ACM on Multimedia Conference (2016).*"
   ]
  },
  {
   "cell_type": "code",
   "execution_count": null,
   "metadata": {},
   "outputs": [],
   "source": [
    "import os\n",
    "import shutil\n",
    "from kaggle.api.kaggle_api_extended import KaggleApi\n",
    "import zipfile\n",
    "\n",
    "competition = 'recognizing-faces-in-the-wild' # https://www.kaggle.com/c/recognizing-faces-in-the-wild\n",
    "download_path = '_FIW-data/'\n",
    "extract_path =  '_FIW-data-extracted/'\n",
    "zip_file = os.path.join(download_path, f'{competition}.zip')\n",
    "\n",
    "print('Recreating intermediate directory: ' + download_path)\n",
    "if os.path.exists(download_path):\n",
    "    shutil.rmtree(download_path)\n",
    "os.makedirs(download_path, exist_ok=False)\n",
    "print('Downloading ' + competition + ' provided data into ' + download_path)\n",
    "api = KaggleApi()\n",
    "api.authenticate()\n",
    "api.competition_download_files(competition, path=download_path)\n",
    "\n",
    "print('Recreating intermediate directory: ' + extract_path)\n",
    "if os.path.exists(extract_path):\n",
    "    shutil.rmtree(extract_path)\n",
    "os.makedirs(extract_path, exist_ok=False)\n",
    "print('Decompressing ' + zip_file + ' into ' + extract_path)\n",
    "with zipfile.ZipFile(zip_file, 'r') as zip_ref:\n",
    "    zip_ref.extractall(extract_path)\n",
    "\n",
    "print('Data files:')\n",
    "for dirname, _, filenames in os.walk(extract_path):\n",
    "    for filename in filenames:\n",
    "        print('\\t' + os.path.join(dirname, filename))"
   ]
  },
  {
   "cell_type": "markdown",
   "metadata": {},
   "source": [
    "## **Step 2**: Extract the image portion of the provided dataset."
   ]
  },
  {
   "cell_type": "code",
   "execution_count": null,
   "metadata": {},
   "outputs": [],
   "source": [
    "training_set = 'train-faces'\n",
    "training_set_path = extract_path + training_set + '-extracted/'\n",
    "print('Recreating intermediate directory: ' + training_set_path)\n",
    "if os.path.exists(training_set_path):\n",
    "    shutil.rmtree(training_set_path)\n",
    "os.makedirs(training_set_path, exist_ok=False)\n",
    "print('Decompressing ' + training_set + ' into ' + training_set_path)\n",
    "with zipfile.ZipFile(extract_path + training_set + '.zip', 'r') as zip_ref:\n",
    "    zip_ref.extractall(training_set_path)"
   ]
  },
  {
   "cell_type": "markdown",
   "metadata": {},
   "source": [
    "## **Step 3**: Preprocess the image portion of the provided dataset."
   ]
  },
  {
   "cell_type": "code",
   "execution_count": 67,
   "metadata": {},
   "outputs": [
    {
     "name": "stdout",
     "output_type": "stream",
     "text": [
      "member_keys[3881] = [\n",
      "_FIW-data-extracted/train-faces-extracted\\F0001\\MID1,\n",
      "_FIW-data-extracted/train-faces-extracted\\F0001\\MID2,\n",
      "_FIW-data-extracted/train-faces-extracted\\F0001\\MID3,\n",
      "...\n",
      "]\n",
      "member_dict[3881] = [\n",
      "_FIW-data-extracted/train-faces-extracted\\F0001\\MID1: ['_FIW-data-extracted/train-faces-extracted\\\\F0001\\\\MID1\\\\P00001_face2.jpg', '_FIW-data-extracted/train-faces-extracted\\\\F0001\\\\MID1\\\\P00002_face3.jpg', '_FIW-data-extracted/train-faces-extracted\\\\F0001\\\\MID1\\\\P00003_face1.jpg', '_FIW-data-extracted/train-faces-extracted\\\\F0001\\\\MID1\\\\P00004_face3.jpg', '_FIW-data-extracted/train-faces-extracted\\\\F0001\\\\MID1\\\\P00007_face2.jpg', '_FIW-data-extracted/train-faces-extracted\\\\F0001\\\\MID1\\\\P00008_face7.jpg'],\n",
      "_FIW-data-extracted/train-faces-extracted\\F0001\\MID2: ['_FIW-data-extracted/train-faces-extracted\\\\F0001\\\\MID2\\\\P00001_face1.jpg', '_FIW-data-extracted/train-faces-extracted\\\\F0001\\\\MID2\\\\P00002_face2.jpg', '_FIW-data-extracted/train-faces-extracted\\\\F0001\\\\MID2\\\\P00003_face2.jpg', '_FIW-data-extracted/train-faces-extracted\\\\F0001\\\\MID2\\\\P00004_face1.jpg', '_FIW-data-extracted/train-faces-extracted\\\\F0001\\\\MID2\\\\P00008_face2.jpg'],\n",
      "_FIW-data-extracted/train-faces-extracted\\F0001\\MID3: ['_FIW-data-extracted/train-faces-extracted\\\\F0001\\\\MID3\\\\P00005_face2.jpg', '_FIW-data-extracted/train-faces-extracted\\\\F0001\\\\MID3\\\\P00006_face2.jpg', '_FIW-data-extracted/train-faces-extracted\\\\F0001\\\\MID3\\\\P00007_face3.jpg'],\n",
      "...\n",
      "]\n"
     ]
    }
   ],
   "source": [
    "from collections import defaultdict\n",
    "import glob\n",
    "\n",
    "# Create a dictionary to lookup image files for each member\n",
    "member_dict = defaultdict(list)\n",
    "for family in glob.glob(training_set_path + '*'):\n",
    "    for member in glob.glob(family + '/*'):\n",
    "        for image_path in glob.glob(member + '/*.jpg'):\n",
    "            member_dict[member].append(image_path)\n",
    "\n",
    "# Create a list of member_dict keys\n",
    "member_keys = list(member_dict.keys())\n",
    "# Show the first three members\n",
    "print('member_keys[' + str(len(member_keys)) + '] = [')\n",
    "for key in member_keys[:3]:\n",
    "    print(key + ',')\n",
    "print('...\\n]')\n",
    "            \n",
    "# Show the first three entries of the dictionary to get a feel for the structure.\n",
    "print('member_dict[' + str(len(member_dict.items())) + '] = [')\n",
    "for key, value in list(member_dict.items())[:3]:\n",
    "    print(str(key) + ': ' + str(value) + ',')\n",
    "print('...\\n]')"
   ]
  },
  {
   "cell_type": "markdown",
   "metadata": {},
   "source": [
    "## **Step 4**: Preprocess the relational portion of the provided dataset.\n",
    "\n",
    "Note: All memberbers of a family are not necessarily related (e.g., husband/wife)."
   ]
  },
  {
   "cell_type": "code",
   "execution_count": 68,
   "metadata": {},
   "outputs": [
    {
     "name": "stdout",
     "output_type": "stream",
     "text": [
      "Taining images which are related:\n",
      "              p1          p2\n",
      "0     F0002/MID1  F0002/MID3\n",
      "1     F0002/MID2  F0002/MID3\n",
      "2     F0005/MID1  F0005/MID2\n",
      "3     F0005/MID3  F0005/MID2\n",
      "4     F0009/MID1  F0009/MID4\n",
      "...          ...         ...\n",
      "3593  F1000/MID5  F1000/MID8\n",
      "3594  F1000/MID5  F1000/MID9\n",
      "3595  F1000/MID6  F1000/MID9\n",
      "3596  F1000/MID7  F1000/MID8\n",
      "3597  F1000/MID7  F1000/MID9\n",
      "\n",
      "[3598 rows x 2 columns]\n"
     ]
    }
   ],
   "source": [
    "import pandas\n",
    "ground_truth = pandas.read_csv(extract_path + 'train_relationships.csv', delimiter=',', header='infer')\n",
    "print('Taining images which are related:')\n",
    "print(ground_truth)"
   ]
  },
  {
   "cell_type": "code",
   "execution_count": null,
   "metadata": {},
   "outputs": [],
   "source": []
  },
  {
   "cell_type": "markdown",
   "metadata": {},
   "source": [
    "## **Step 3**: Evaluation\n",
    "Submissions are [evaluated](https://www.kaggle.com/competitions/recognizing-faces-in-the-wild/overview/evaluation) on area under the ROC curve between the predicted probability and the observed target. Not all pairs will be scored.\n",
    "\n",
    "**Submission File**\n",
    "\n",
    "For each img_pair in the test set, you must predict a probability for the is_related variable. The column img_pair describes the pair of images, i.e., abcdef-ghijkl means the pair of images abcdef.jpg and ghijkl.jpg.\n",
    "The file should contain a header and have the following format:\n",
    "\n",
    "```\n",
    "img_pair,is_related\n",
    "X3Nk6Hfe5x-qcZrTXsfde,0.0\n",
    "X3Nk6Hfe5x-LD0pWDM8w_,0.0\n",
    "X3Nk6Hfe5x-PHwuDtHyGp,0.0\n",
    "X3Nk6Hfe5x-LO6lN_U4ot,0.0\n",
    "...\n",
    "```"
   ]
  },
  {
   "cell_type": "code",
   "execution_count": 69,
   "metadata": {},
   "outputs": [],
   "source": [
    "results = [\n",
    "    {\"true_label\": 1, \"predicted_prob\": 0.8},\n",
    "    {\"true_label\": 0, \"predicted_prob\": 0.2},\n",
    "    {\"true_label\": 1, \"predicted_prob\": 0.7},\n",
    "    {\"true_label\": 0, \"predicted_prob\": 0.3},\n",
    "    {\"true_label\": 0, \"predicted_prob\": 0.8},\n",
    "    {\"true_label\": 0, \"predicted_prob\": 0.2},\n",
    "    {\"true_label\": 1, \"predicted_prob\": 0.7},\n",
    "    {\"true_label\": 1, \"predicted_prob\": 0.3},\n",
    "]"
   ]
  },
  {
   "cell_type": "code",
   "execution_count": null,
   "metadata": {},
   "outputs": [],
   "source": []
  },
  {
   "cell_type": "code",
   "execution_count": null,
   "metadata": {},
   "outputs": [
    {
     "name": "stdout",
     "output_type": "stream",
     "text": [
      "[1, 0, 1, 0, 0, 0, 1, 1]\n"
     ]
    },
    {
     "data": {
      "image/png": "[encoded data removed]",
      "text/plain": [
       "<Figure size 640x480 with 1 Axes>"
      ]
     },
     "metadata": {},
     "output_type": "display_data"
    }
   ],
   "source": [
    "import matplotlib.pyplot as plt\n",
    "from sklearn.metrics import roc_curve, auc\n",
    "# https://en.wikipedia.org/wiki/Receiver_operating_characteristic\n",
    "def generate_roc_curve(data):\n",
    "  true_labels = [d['true_label'] for d in data]\n",
    "  print(true_labels)\n",
    "  predicted_probs = [d['predicted_prob'] for d in data]\n",
    "  fpr, tpr, _ = roc_curve(true_labels, predicted_probs)\n",
    "  roc_auc = auc(fpr, tpr)\n",
    "  plt.figure()\n",
    "  plt.plot(fpr, tpr, color='darkorange', label='ROC curve (area = %0.2f)' % roc_auc)\n",
    "  plt.plot([0, 1], [0, 1], color='navy', linestyle='--')\n",
    "  plt.xlim([0.0, 1.0])\n",
    "  plt.ylim([0.0, 1.05])\n",
    "  plt.xlabel('False Positive Rate')\n",
    "  plt.ylabel('True Positive Rate')\n",
    "  plt.title('Receiver Operating Characteristic (ROC) Curve')\n",
    "  plt.legend(loc=\"lower right\")\n",
    "  return plt\n",
    "    \n",
    "generate_roc_curve(results).show()"
   ]
  },
  {
   "cell_type": "markdown",
   "metadata": {},
   "source": []
  }
 ],
 "metadata": {
  "kaggle": {
   "accelerator": "none",
   "dataSources": [],
   "dockerImageVersionId": 30786,
   "isGpuEnabled": false,
   "isInternetEnabled": false,
   "language": "python",
   "sourceType": "notebook"
  },
  "kernelspec": {
   "display_name": "Python 3",
   "language": "python",
   "name": "python3"
  },
  "language_info": {
   "codemirror_mode": {
    "name": "ipython",
    "version": 3
   },
   "file_extension": ".py",
   "mimetype": "text/x-python",
   "name": "python",
   "nbconvert_exporter": "python",
   "pygments_lexer": "ipython3",
   "version": "3.12.7"
  }
 },
 "nbformat": 4,
 "nbformat_minor": 4
}
