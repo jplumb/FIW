{
 "cells": [
  {
   "cell_type": "markdown",
   "metadata": {},
   "source": [
    "## **Northeastern SMILE Lab - Recognizing Faces in the Wild**\n",
    "\n",
    "## Background\n",
    "\n",
    "The SMILE Lab at Northeastern focuses on the frontier research of applied machine learning, social media analytics, human-computer interaction, and high-level image and video understanding. Their research is driven by the explosion of diverse multimedia from the Internet, including both personal and publicly available photos and videos. They start by treating fundamental theory from learning algorithms as the soul of machine intelligence and arm it with visual perception.\n",
    "\n",
    "Northeastern University has been developing an automatic kinship classifier since 2010. However, the widespread adoption of this technology has been hindered by two primary factors:\n",
    "\n",
    "- Data Limitations: Existing image databases for kinship recognition are insufficient in size and diversity to accurately represent global familial relationships.\n",
    "\n",
    "- Model Complexity: The complex interplay of genetic and environmental factors influencing facial features necessitates a more advanced model than traditional computer vision algorithms, which are typically designed for higher-level tasks like facial recognition or object classification.\n",
    "\n",
    "## Objective\n",
    "\n",
    "Using the provided competition data, the following model predicts the probability of two individuals being related (1) based solely on a pair of facial images. "
   ]
  },
  {
   "cell_type": "markdown",
   "metadata": {},
   "source": [
    "## **Step 1**: Download the official Kaggle competition (FIW) data.\n",
    "\n",
    "***Before executing the following cells***, please review section 7 of the rules: https://www.kaggle.com/competitions/recognizing-faces-in-the-wild/rules#7-competition-data. \n",
    "\n",
    "Note that all usages of FIW data should cite the following papers:\n",
    "\n",
    "*Joseph P Robinson, Ming Shao, Hongfu Liu, Yue Wu, Timothy Gillis, and Yun Fu. \"Visual Kinship Recognition of Families In the Wild\" IEEE TPAMI Special Edition: Computational Face (2018).\n",
    "Joseph P Robinson, Ming Shao, Handong Zhao, Yue Wu, Timothy Gillis, Yun Fu. \"Recognizing Families In the Wild (RFIW): Data Challenge Workshop in conjunction with ACM MM 2017,\" ACM Multimedia Conference: Workshop on RFIW (2017).\n",
    "Shuyang Wang, Joseph P Robinson, and Yun Fu. “Kinship Verification on Families in the Wild with Marginalized Denoising Metric Learning,” in IEEE Automatic Face and Gesture Recognition (2017).\n",
    "Joseph P Robinson, Ming Shao, Yue Wu, and Yun Fu. “Families In the Wild (FIW): large-scale kinship image database and benchmarks.\" in ACM on Multimedia Conference (2016).*"
   ]
  },
  {
   "cell_type": "code",
   "execution_count": 1,
   "metadata": {},
   "outputs": [],
   "source": [
    "download_path = '_provided-data' # Intermediate directories are excluded recursively via. .gitignore (i.e., '_*/').\n",
    "competition = 'recognizing-faces-in-the-wild' # Hosted here: https://www.kaggle.com/c/recognizing-faces-in-the-wild\n"
   ]
  },
  {
   "cell_type": "code",
   "execution_count": 2,
   "metadata": {},
   "outputs": [
    {
     "name": "stdout",
     "output_type": "stream",
     "text": [
      "Downloading recognizing-faces-in-the-wild provided data into _provided-data\n"
     ]
    }
   ],
   "source": [
    "import os\n",
    "from kaggle.api.kaggle_api_extended import KaggleApi\n",
    "\n",
    "os.makedirs(download_path, exist_ok=True)\n",
    "print('Downloading ' + competition + ' provided data into ' + download_path)\n",
    "api = KaggleApi()\n",
    "api.authenticate()\n",
    "api.competition_download_files(competition, path = download_path)\n"
   ]
  },
  {
   "cell_type": "code",
   "execution_count": 3,
   "metadata": {},
   "outputs": [
    {
     "name": "stdout",
     "output_type": "stream",
     "text": [
      "Decompressing recognizing-faces-in-the-wild provided data:\n",
      "_recognizing-faces-in-the-wild/\n",
      "['README.md', 'sample_submission.csv', 'test-faces.zip', 'test-private-faces.zip', 'test-private-labels.zip', 'test-private-lists.zip', 'test-public-faces.zip', 'test-public-lists.zip', 'test.zip', 'train-faces.zip']\n",
      "_train-faces/\n",
      "['F0001', 'F0002', 'F0003', 'F0004', 'F0005', 'F0006', 'F0007', 'F0008', 'F0011', 'F0012']\n",
      "_test-faces/\n",
      "['22AYVUUOY5.jpg', '22EHSQ3J67.jpg', '23CPGCRQYL.jpg', '23JHLHHVQ7.jpg', '23NVWX5EJY.jpg', '23VRLQQU2Z.jpg', '23WR6OWN6N.jpg', '24GVLNJKZE.jpg', '24JEM3FJTP.jpg', '24JQ7IM5RN.jpg']\n"
     ]
    }
   ],
   "source": [
    "import os\n",
    "import zipfile\n",
    "\n",
    "def unzip(zip_path):\n",
    "    dest_dir = '_' + os.path.basename(zip_path)[:-4]\n",
    "    if (not os.path.exists(dest_dir)):\n",
    "        os.makedirs(dest_dir, exist_ok=True)\n",
    "        print('Decompressing ' + zip_path + ' into ' + dest_dir)\n",
    "        with zipfile.ZipFile(zip_path, 'r') as zip_ref:\n",
    "            zip_ref.extractall(dest_dir)\n",
    "    print(dest_dir + '/')\n",
    "    print(os.listdir(dest_dir)[:10])\n",
    "    return dest_dir\n",
    "\n",
    "print('Decompressing ' + competition + ' provided data:')\n",
    "dataset_path = unzip(download_path + '/' + competition + '.zip')\n",
    "training_image_path = unzip(dataset_path + '/train-faces.zip')\n",
    "testing_image_path = unzip(dataset_path + '/test-faces.zip')\n"
   ]
  },
  {
   "cell_type": "markdown",
   "metadata": {},
   "source": [
    "## **Step 2**: Load and clean the labeled dataset.\n",
    "The _train_relationships.csv_ encodes (ground truth) kinship relations between pairs of people. \n"
   ]
  },
  {
   "cell_type": "code",
   "execution_count": 4,
   "metadata": {},
   "outputs": [
    {
     "name": "stdout",
     "output_type": "stream",
     "text": [
      "Loading _recognizing-faces-in-the-wild/train_relationships.csv\n",
      "Images found for members of 786 total families.\n",
      "F0001: ['MID1', 'MID2', 'MID3', 'MID4'],\n",
      "F0002: ['MID1', 'MID2', 'MID3'],\n",
      "F0003: ['MID1', 'MID2', 'MID3', 'MID4'],\n",
      "F0004: ['MID1', 'MID2', 'MID3', 'MID4', 'MID5', 'MID6', 'MID7'],\n",
      "F0005: ['MID1', 'MID2', 'MID3'],\n",
      "The original ground truth relations data contains 3598 pairs.\n",
      "              p1          p2\n",
      "0     F0002/MID1  F0002/MID3\n",
      "1     F0002/MID2  F0002/MID3\n",
      "2     F0005/MID1  F0005/MID2\n",
      "3     F0005/MID3  F0005/MID2\n",
      "4     F0009/MID1  F0009/MID4\n",
      "...          ...         ...\n",
      "3593  F1000/MID5  F1000/MID8\n",
      "3594  F1000/MID5  F1000/MID9\n",
      "3595  F1000/MID6  F1000/MID9\n",
      "3596  F1000/MID7  F1000/MID8\n",
      "3597  F1000/MID7  F1000/MID9\n",
      "\n",
      "[3598 rows x 2 columns]\n",
      "Checking for missing relation image data.\n",
      "1108 pairs were removed due to missing data.\n",
      "              p1          p2\n",
      "0     F0002/MID1  F0002/MID3\n",
      "1     F0002/MID2  F0002/MID3\n",
      "2     F0005/MID1  F0005/MID2\n",
      "3     F0005/MID3  F0005/MID2\n",
      "29    F0016/MID1  F0016/MID5\n",
      "...          ...         ...\n",
      "3571  F0998/MID5  F0998/MID3\n",
      "3572  F0998/MID5  F0998/MID1\n",
      "3573  F0998/MID6  F0998/MID1\n",
      "3574  F0998/MID6  F0998/MID2\n",
      "3575  F0998/MID6  F0998/MID3\n",
      "\n",
      "[2490 rows x 2 columns]\n"
     ]
    }
   ],
   "source": [
    "from collections import defaultdict\n",
    "import glob\n",
    "import pandas\n",
    "\n",
    "relations_csv_path = dataset_path + '/train_relationships.csv'\n",
    "print('Loading ' + relations_csv_path)\n",
    "relations_df = pandas.read_csv(relations_csv_path, delimiter=',', header='infer')\n",
    "\n",
    "# Create a dictionary to lookup image files for each member\n",
    "family_dict = defaultdict(list)\n",
    "for family in glob.glob(training_image_path + '*'):\n",
    "    for member in glob.glob(family + '/*'):\n",
    "        for image_path in glob.glob(member + '/*'):\n",
    "            member = member.split('\\\\')[-1]\n",
    "            image_path = image_path.split('\\\\')[-1]\n",
    "            family_dict[member].append(image_path)\n",
    "\n",
    "print('Images found for members of ' + str(len(family_dict.items())) + ' total families.')\n",
    "for key, value in list(family_dict.items())[:5]:\n",
    "    print(str(key) + ': ' + str(value) + ',')\n",
    "    \n",
    "# Remove entries which do not exist in the training set\n",
    "print('The original ground truth relations data contains ' + str(len(relations_df)) + ' pairs.')\n",
    "print(relations_df)\n",
    "\n",
    "print('Checking for missing relation image data.')\n",
    "fam_keys = family_dict.keys()\n",
    "missing_relations_list = []\n",
    "for index, row in relations_df.iterrows():\n",
    "    split1 = row.p1.split('/')\n",
    "    split2 = row.p2.split('/')\n",
    "    p1fam = split1[0]\n",
    "    p2fam = split2[0]\n",
    "    if (p1fam not in fam_keys or p2fam not in fam_keys):\n",
    "        missing_relations_list.append(index)\n",
    "        continue\n",
    "    p1member = split1[1]\n",
    "    p2member = split2[1]\n",
    "    if (p1member not in family_dict[p1fam] or p2member not in family_dict[p2fam]):\n",
    "        missing_relations_list.append(index)\n",
    "        continue\n",
    "    images1 = os.listdir(training_image_path + '/' + p1fam + '/' + p1member)\n",
    "    images2 = os.listdir(training_image_path + '/' + p2fam + '/' + p2member)\n",
    "    if (len(images1) == 0 or len(images2) == 0):\n",
    "        missing_relations_list.append(index)\n",
    "        continue\n",
    "if (missing_relations_list.count):\n",
    "    relations_df = relations_df.drop(missing_relations_list)\n",
    "    print(str(len(missing_relations_list)) + ' pairs were removed due to missing data.')\n",
    "    print(relations_df)\n",
    "else:\n",
    "    print('All relations were found to have valid image data.')\n"
   ]
  },
  {
   "cell_type": "markdown",
   "metadata": {},
   "source": [
    "## **Step 3**: Show a random selection of the relations."
   ]
  },
  {
   "cell_type": "code",
   "execution_count": 5,
   "metadata": {},
   "outputs": [
    {
     "name": "stdout",
     "output_type": "stream",
     "text": [
      "               p1           p2\n",
      "2069  F0601/MID20  F0601/MID42\n",
      "2961   F0816/MID1   F0816/MID4\n",
      "3028   F0825/MID5   F0825/MID2\n"
     ]
    },
    {
     "data": {
      "image/png": "[encoded data removed]",
      "text/plain": [
       "<Figure size 640x480 with 6 Axes>"
      ]
     },
     "metadata": {},
     "output_type": "display_data"
    }
   ],
   "source": [
    "from PIL import Image\n",
    "import matplotlib.pyplot as plt\n",
    "from random import choice\n",
    "\n",
    "SAMPLE_COUNT = 3\n",
    "samples = relations_df.sample(SAMPLE_COUNT)\n",
    "print(samples)\n",
    "\n",
    "f, ax = plt.subplots(SAMPLE_COUNT, 2)\n",
    "for a in ax.flat:\n",
    "    a.axis('off')\n",
    "i = 0\n",
    "for member in samples.values:\n",
    "    img1 = training_image_path + '/' + member[0] + '/' \\\n",
    "        + choice(os.listdir(training_image_path + '/' + member[0]))\n",
    "    img2 = training_image_path + '/' + member[1] + '/'  \\\n",
    "        + choice(os.listdir(training_image_path + '/' + member[1]))\n",
    "    rgb1 = Image.open(img1)\n",
    "    rgb2 = Image.open(img2)\n",
    "    ax[i][0].imshow(rgb1)\n",
    "    ax[i][1].imshow(rgb2)\n",
    "    i = i + 1\n"
   ]
  },
  {
   "cell_type": "markdown",
   "metadata": {},
   "source": [
    "## **Step 4**: Separate the relations data into training and testing portions."
   ]
  },
  {
   "cell_type": "code",
   "execution_count": 16,
   "metadata": {},
   "outputs": [
    {
     "name": "stdout",
     "output_type": "stream",
     "text": [
      "1727 total members in the training set.\n",
      "Training data contains 128578 (positive) pairs.\n",
      "Training data contains 128836 (negative) pairs.\n",
      "Training set contains 2000 pairs.\n",
      "[['F0164/MID1/P01760_face2.jpg', 'F0164/MID3/P01761_face1.jpg', 1.0], ['F0601/MID6/P04415_face2.jpg', 'F0601/MID7/P06399_face3.jpg', 1.0], ['F0064/MID1/P00650_face1.jpg', 'F0064/MID2/P00642_face4.jpg', 1.0], ['F0168/MID4/P01805_face4.jpg', 'F0933/MID2/P09842_face1.jpg', 0.0], ['F0601/MID6/P11951_face7.jpg', 'F0601/MID7/P12011_face1.jpg', 1.0], ['F0425/MID1/P04484_face1.jpg', 'F0425/MID3/P11463_face1.jpg', 1.0], ['F0881/MID5/P09296_face1.jpg', 'F0746/MID2/P07814_face2.jpg', 0.0], ['F0601/MID2/P06396_face1.jpg', 'F0601/MID5/P06302_face2.jpg', 1.0], ['F0387/MID6/P04107_face1.jpg', 'F0215/MID3/P11496_face2.jpg', 0.0], ['F0882/MID1/P12352_face2.jpg', 'F0882/MID4/P12354_face2.jpg', 1.0]]\n",
      "Testing set contains 1000 pairs.\n",
      "[['F0813/MID2/P08594_face2.jpg', 'F0299/MID2/P03182_face2.jpg', 0.0], ['F0283/MID4/P03024_face3.jpg', 'F0183/MID5/P01965_face2.jpg', 0.0], ['F0836/MID1/P08831_face1.jpg', 'F0443/MID3/P04677_face3.jpg', 0.0], ['F0601/MID19/P04412_face2.jpg', 'F0601/MID7/P11952_face12.jpg', 1.0], ['F0861/MID2/P09095_face3.jpg', 'F0669/MID1/P06994_face2.jpg', 0.0], ['F0601/MID2/P11892_face1.jpg', 'F0216/MID2/P02295_face1.jpg', 0.0], ['F0425/MID1/P11463_face5.jpg', 'F0225/MID1/P02400_face2.jpg', 0.0], ['F0589/MID2/P11810_face4.jpg', 'F0752/MID1/P07893_face4.jpg', 0.0], ['F0202/MID5/P02177_face1.jpg', 'F0769/MID3/P08116_face1.jpg', 0.0], ['F0460/MID4/P04854_face3.jpg', 'F0716/MID1/P07507_face2.jpg', 0.0]]\n",
      "Training data contains 128578 (positive) pairs.\n",
      "Training data contains 128836 (negative) pairs.\n",
      "Training set contains 2000 pairs.\n",
      "[['F0164/MID1/P01760_face2.jpg', 'F0164/MID3/P01761_face1.jpg', 1.0], ['F0601/MID6/P04415_face2.jpg', 'F0601/MID7/P06399_face3.jpg', 1.0], ['F0064/MID1/P00650_face1.jpg', 'F0064/MID2/P00642_face4.jpg', 1.0], ['F0168/MID4/P01805_face4.jpg', 'F0933/MID2/P09842_face1.jpg', 0.0], ['F0601/MID6/P11951_face7.jpg', 'F0601/MID7/P12011_face1.jpg', 1.0], ['F0425/MID1/P04484_face1.jpg', 'F0425/MID3/P11463_face1.jpg', 1.0], ['F0881/MID5/P09296_face1.jpg', 'F0746/MID2/P07814_face2.jpg', 0.0], ['F0601/MID2/P06396_face1.jpg', 'F0601/MID5/P06302_face2.jpg', 1.0], ['F0387/MID6/P04107_face1.jpg', 'F0215/MID3/P11496_face2.jpg', 0.0], ['F0882/MID1/P12352_face2.jpg', 'F0882/MID4/P12354_face2.jpg', 1.0]]\n",
      "Testing set contains 1000 pairs.\n",
      "[['F0813/MID2/P08594_face2.jpg', 'F0299/MID2/P03182_face2.jpg', 0.0], ['F0283/MID4/P03024_face3.jpg', 'F0183/MID5/P01965_face2.jpg', 0.0], ['F0836/MID1/P08831_face1.jpg', 'F0443/MID3/P04677_face3.jpg', 0.0], ['F0601/MID19/P04412_face2.jpg', 'F0601/MID7/P11952_face12.jpg', 1.0], ['F0861/MID2/P09095_face3.jpg', 'F0669/MID1/P06994_face2.jpg', 0.0], ['F0601/MID2/P11892_face1.jpg', 'F0216/MID2/P02295_face1.jpg', 0.0], ['F0425/MID1/P11463_face5.jpg', 'F0225/MID1/P02400_face2.jpg', 0.0], ['F0589/MID2/P11810_face4.jpg', 'F0752/MID1/P07893_face4.jpg', 0.0], ['F0202/MID5/P02177_face1.jpg', 'F0769/MID3/P08116_face1.jpg', 0.0], ['F0460/MID4/P04854_face3.jpg', 'F0716/MID1/P07507_face2.jpg', 0.0]]\n"
     ]
    }
   ],
   "source": [
    "import itertools\n",
    "import random\n",
    "\n",
    "# Create a list of all of the members in the relations data\n",
    "members = []\n",
    "for member in relations_df.values:\n",
    "    if (member[0] not in members):\n",
    "        members.append(member[0])\n",
    "    if (member[1] not in members):\n",
    "        members.append(member[1])\n",
    "members.sort()\n",
    "print(str(len(members)) + ' total members in the training set.')\n",
    "\n",
    "# Create a list of the corresponding images\n",
    "member_images = dict()\n",
    "for member in members:\n",
    "    set = os.listdir(training_image_path + '/' + member)\n",
    "    if (len(set) > 0):\n",
    "        image_set = []\n",
    "        for image in set:\n",
    "            image_set.append(member + '/' + image)\n",
    "        member_images[member] = image_set\n",
    "\n",
    "training_data_positives = []\n",
    "# Add the related image pairs\n",
    "for index, row in relations_df.iterrows():\n",
    "    p1 = row.p1\n",
    "    p2 = row.p2\n",
    "    p1_images = list(member_images[p1])\n",
    "    p2_images = list(member_images[p2])\n",
    "    for image1, image2 in itertools.product(p1_images, p2_images):\n",
    "        training_data_positives.append([image1, image2, 1.0])\n",
    "print('Training data contains ' + str(len(training_data_positives)) + ' (positive) pairs.')\n",
    "\n",
    "# Add the unrelated image pairs\n",
    "training_data_negatives = []\n",
    "index = 0\n",
    "while index < len(training_data_positives):\n",
    "    p1 = random.choice(members)\n",
    "    p2 = random.choice(members)\n",
    "    if (p1 == p2):\n",
    "        continue # try again\n",
    "    p1_images = list(member_images[p1])\n",
    "    p2_images = list(member_images[p2])\n",
    "    for image1, image2 in itertools.product(p1_images, p2_images):\n",
    "        training_data_negatives.append([image1, image2, 0.0])\n",
    "        index = index + 1\n",
    "print('Training data contains ' + str(len(training_data_negatives)) + ' (negative) pairs.')\n",
    "\n",
    "# Use a similar number of true positives and true negatives for trainings and testing\n",
    "num_training_samples = 1000\n",
    "if (num_training_samples > len(training_data_positives)):\n",
    "    num_training_samples = len(training_data_positives)\n",
    "training_data = random.sample(training_data_positives, num_training_samples)\n",
    "training_data = training_data + random.sample(training_data_negatives, num_training_samples)\n",
    "random.shuffle(training_data)\n",
    "print('Training set contains ' + str(len(training_data)) + ' pairs.')\n",
    "print(training_data[:10])\n",
    "\n",
    "num_testing_samples = 500\n",
    "if (num_testing_samples > len(training_data_positives)):\n",
    "    num_testing_samples = len(training_data_positives)\n",
    "testing_data = random.sample(training_data_positives, num_testing_samples)\n",
    "testing_data = testing_data + random.sample(training_data_negatives, num_testing_samples)\n",
    "random.shuffle(testing_data)\n",
    "print('Testing set contains ' + str(len(testing_data)) + ' pairs.')\n",
    "print(testing_data[:10])\n"
   ]
  },
  {
   "cell_type": "markdown",
   "metadata": {},
   "source": [
    "## **Step 5**: Train the model"
   ]
  },
  {
   "cell_type": "code",
   "execution_count": 7,
   "metadata": {},
   "outputs": [
    {
     "name": "stdout",
     "output_type": "stream",
     "text": [
      "The dataset_tensor contains 2000 samples.\n",
      "The dataloader contains 63 batches.\n"
     ]
    }
   ],
   "source": [
    "import torch\n",
    "from torch.utils.data import Dataset\n",
    "import torchvision.transforms as transforms\n",
    "from PIL import Image\n",
    "\n",
    "transform = transforms.Compose([\n",
    "                                transforms.Resize((56,56)),\n",
    "                                transforms.ToTensor(),\n",
    "                                ])\n",
    "    \n",
    "class ImagePairDataset(Dataset):\n",
    "    def __init__(self, data):\n",
    "        self.image_pairs = [sublist[:-1] for sublist in data]\n",
    "        self.labels = torch.tensor([sublist[-1] for sublist in data], dtype=torch.float32)\n",
    "\n",
    "    def __len__(self):\n",
    "        return len(self.labels)\n",
    "\n",
    "    def __getitem__(self, idx):\n",
    "        img0 = Image.open('_train-faces/' + self.image_pairs[idx][0])\n",
    "        img1 = Image.open('_train-faces/' + self.image_pairs[idx][1])\n",
    "        img0 = transform(img0)\n",
    "        img1 = transform(img1)\n",
    "        return img0, img1, self.labels[idx]\n",
    "\n",
    "dataset_tensor = ImagePairDataset(training_data)\n",
    "print('The dataset_tensor contains ' + str(len(dataset_tensor)) + ' samples.')\n",
    "\n",
    "# Create a data loader to iterate over the dataset_tensor in batches\n",
    "batch_size = 32\n",
    "dataloader = torch.utils.data.DataLoader(dataset_tensor, batch_size=batch_size)\n",
    "print('The dataloader contains ' + str(len(dataloader)) + ' batches.')\n"
   ]
  },
  {
   "cell_type": "code",
   "execution_count": 8,
   "metadata": {},
   "outputs": [],
   "source": [
    "import torch\n",
    "import torch.nn as nn\n",
    "import torch.optim as optim\n",
    "import torch.nn.functional as F\n",
    "\n",
    "class SiameseNetwork(nn.Module):\n",
    "    def __init__(self):\n",
    "        super(SiameseNetwork, self).__init__()\n",
    "\n",
    "        # Convolutional layers\n",
    "        self.cnn1 = nn.Sequential(\n",
    "            nn.Conv2d(3, 32, kernel_size=3),\n",
    "            nn.ReLU(inplace=True),\n",
    "            nn.MaxPool2d(2, 2),\n",
    "            nn.Conv2d(32, 64, kernel_size=3),\n",
    "            nn.ReLU(inplace=True),\n",
    "            nn.MaxPool2d(2, 2),\n",
    "        )\n",
    "\n",
    "        # Fully connected layers\n",
    "        self.fc1 = nn.Sequential(\n",
    "            nn.Linear(9216, 512),\n",
    "            nn.ReLU(inplace=True),\n",
    "            nn.Linear(512, 256),\n",
    "            nn.ReLU(inplace=True),\n",
    "            nn.Linear(256, 128)\n",
    "        )\n",
    "\n",
    "    def forward_once(self, x):\n",
    "        output = self.cnn1(x)\n",
    "        output = output.view(output.size()[0], -1)\n",
    "        output = self.fc1(output)\n",
    "        return output\n",
    "\n",
    "    def forward(self, input1, input2):\n",
    "        output1 = self.forward_once(input1)\n",
    "        output2 = self.forward_once(input2)\n",
    "        return output1, output2\n",
    "\n",
    "class ContrastiveLoss(torch.nn.Module):\n",
    "    def __init__(self, margin=2.0):\n",
    "        super(ContrastiveLoss, self).__init__()\n",
    "        self.margin = margin\n",
    "\n",
    "    def forward(self, output1, output2, label):\n",
    "        euclidean_distance = F.pairwise_distance(output1, output2, keepdim = True)\n",
    "        loss_contrastive = torch.mean((1-label) * torch.pow(euclidean_distance, 2) +\n",
    "                                      (label) * torch.pow(torch.clamp(self.margin - euclidean_distance, min=0.0), 2))\n",
    "        return loss_contrastive\n",
    "\n",
    "# Hyperparameters\n",
    "num_epochs = 50\n",
    "learning_rate = 0.0001\n",
    "device = torch.device(\"cuda\" if torch.cuda.is_available() else \"cpu\")\n",
    "\n",
    "# Create the network\n",
    "model = SiameseNetwork()\n",
    "criterion = ContrastiveLoss()\n",
    "optimizer = optim.Adam(model.parameters(), lr=learning_rate)\n"
   ]
  },
  {
   "cell_type": "code",
   "execution_count": 9,
   "metadata": {},
   "outputs": [
    {
     "name": "stdout",
     "output_type": "stream",
     "text": [
      "Epoch Loss: 1.2851\n",
      "Epoch Loss: 1.1289\n",
      "Epoch Loss: 1.1048\n",
      "Epoch Loss: 1.0830\n",
      "Epoch Loss: 1.0668\n",
      "Epoch Loss: 1.0545\n",
      "Epoch Loss: 1.0454\n",
      "Epoch Loss: 1.0366\n",
      "Epoch Loss: 1.0292\n",
      "Epoch Loss: 1.0223\n",
      "Epoch Loss: 1.0164\n",
      "Epoch Loss: 1.0115\n",
      "Epoch Loss: 1.0074\n",
      "Epoch Loss: 1.0038\n",
      "Epoch Loss: 1.0004\n",
      "Epoch Loss: 0.9977\n",
      "Epoch Loss: 0.9950\n",
      "Epoch Loss: 0.9929\n",
      "Epoch Loss: 0.9908\n",
      "Epoch Loss: 0.9892\n",
      "Epoch Loss: 0.9876\n",
      "Epoch Loss: 0.9862\n",
      "Epoch Loss: 0.9854\n",
      "Epoch Loss: 0.9847\n",
      "Epoch Loss: 0.9840\n",
      "Epoch Loss: 0.9836\n",
      "Epoch Loss: 0.9833\n",
      "Epoch Loss: 0.9830\n",
      "Epoch Loss: 0.9826\n",
      "Epoch Loss: 0.9824\n",
      "Epoch Loss: 0.9821\n",
      "Epoch Loss: 0.9824\n",
      "Epoch Loss: 0.9822\n",
      "Epoch Loss: 0.9813\n",
      "Epoch Loss: 0.9810\n",
      "Epoch Loss: 0.9813\n",
      "Epoch Loss: 0.9816\n",
      "Epoch Loss: 0.9816\n",
      "Epoch Loss: 0.9809\n",
      "Epoch Loss: 0.9807\n",
      "Epoch Loss: 0.9809\n",
      "Epoch Loss: 0.9804\n",
      "Epoch Loss: 0.9804\n",
      "Epoch Loss: 0.9803\n",
      "Epoch Loss: 0.9797\n",
      "Epoch Loss: 0.9794\n",
      "Epoch Loss: 0.9792\n",
      "Epoch Loss: 0.9792\n",
      "Epoch Loss: 0.9794\n",
      "Epoch Loss: 0.9793\n",
      "Finished training.\n"
     ]
    }
   ],
   "source": [
    "def train(model, dataloader, criterion, optimizer, device):\n",
    "    model.train()\n",
    "    running_loss = 0.0\n",
    "\n",
    "    for i, (data1, data2, label) in enumerate(dataloader):\n",
    "        data1, data2, label = data1.to(device), data2.to(device), label.to(device)\n",
    "        optimizer.zero_grad()\n",
    "        output1, output2 = model(data1, data2)\n",
    "        loss = criterion(output1, output2, label)\n",
    "        loss.backward()\n",
    "        optimizer.step()\n",
    "        running_loss += loss.item() * data1.size(0)\n",
    "\n",
    "    epoch_loss = running_loss / len(dataloader.dataset)\n",
    "    print(f'Epoch Loss: {epoch_loss:.4f}')\n",
    "\n",
    "for epoch in range(num_epochs):\n",
    "    train_loss = train(model, dataloader, criterion, optimizer, device)\n",
    "\n",
    "print('Finished training.')\n"
   ]
  },
  {
   "cell_type": "code",
   "execution_count": 10,
   "metadata": {},
   "outputs": [],
   "source": [
    "# Optionally store the (trained) model to file.\n",
    "torch.save(model.state_dict(),'_model-state-dict.pth')\n"
   ]
  },
  {
   "cell_type": "markdown",
   "metadata": {},
   "source": [
    "## **Step 6**: Test the model"
   ]
  },
  {
   "cell_type": "code",
   "execution_count": 11,
   "metadata": {},
   "outputs": [
    {
     "name": "stderr",
     "output_type": "stream",
     "text": [
      "C:\\Users\\jplumb\\AppData\\Local\\Temp\\ipykernel_5104\\1730811235.py:2: FutureWarning: You are using `torch.load` with `weights_only=False` (the current default value), which uses the default pickle module implicitly. It is possible to construct malicious pickle data which will execute arbitrary code during unpickling (See https://github.com/pytorch/pytorch/blob/main/SECURITY.md#untrusted-models for more details). In a future release, the default value for `weights_only` will be flipped to `True`. This limits the functions that could be executed during unpickling. Arbitrary objects will no longer be allowed to be loaded via this mode unless they are explicitly allowlisted by the user via `torch.serialization.add_safe_globals`. We recommend you start setting `weights_only=True` for any use case where you don't have full control of the loaded file. Please open an issue on GitHub for any issues related to this experimental feature.\n",
      "  model.load_state_dict(torch.load('_model-state-dict.pth'))\n"
     ]
    },
    {
     "data": {
      "text/plain": [
       "<All keys matched successfully>"
      ]
     },
     "execution_count": 11,
     "metadata": {},
     "output_type": "execute_result"
    }
   ],
   "source": [
    "# Optionally load the (trained) model from file.\n",
    "model.load_state_dict(torch.load('_model-state-dict.pth'))"
   ]
  },
  {
   "cell_type": "code",
   "execution_count": 12,
   "metadata": {},
   "outputs": [
    {
     "name": "stdout",
     "output_type": "stream",
     "text": [
      "The dataset_tensor contains 1000 samples.\n",
      "The dataloader contains 32 batches.\n"
     ]
    }
   ],
   "source": [
    "# Load the (trained) model to a file.\n",
    "dataset_tensor = ImagePairDataset(testing_data)\n",
    "print('The dataset_tensor contains ' + str(len(dataset_tensor)) + ' samples.')\n",
    "\n",
    "# Create a data loader to iterate over the dataset_tensor in batches\n",
    "batch_size = 32\n",
    "dataloader = torch.utils.data.DataLoader(dataset_tensor, batch_size=batch_size, shuffle=False)\n",
    "print('The dataloader contains ' + str(len(dataloader)) + ' batches.')\n"
   ]
  },
  {
   "cell_type": "code",
   "execution_count": 13,
   "metadata": {},
   "outputs": [
    {
     "name": "stdout",
     "output_type": "stream",
     "text": [
      "Test Loss: 1.0494\n"
     ]
    }
   ],
   "source": [
    "\n",
    "def test(model, dataloader, criterion, device):\n",
    "    model.eval()  # Set model to evaluation mode\n",
    "    running_loss = 0.0\n",
    "\n",
    "    with torch.no_grad():  # Disable gradient calculation for testing\n",
    "        for i, (data1, data2, label) in enumerate(dataloader):\n",
    "            data1, data2, label = data1.to(device), data2.to(device), label.to(device)\n",
    "\n",
    "            # Forward pass\n",
    "            output1, output2 = model(data1, data2)\n",
    "            loss = criterion(output1, output2, label)\n",
    "\n",
    "            # Accumulate loss\n",
    "            running_loss += loss.item() * data1.size(0)\n",
    "\n",
    "    # Calculate average loss over the entire dataset\n",
    "    epoch_loss = running_loss / len(dataloader.dataset)\n",
    "    print(f'Test Loss: {epoch_loss:.4f}')\n",
    "    \n",
    "test(model, dataloader, criterion, device)\n"
   ]
  },
  {
   "cell_type": "markdown",
   "metadata": {},
   "source": [
    "## **Step 7**: Evaluation\n",
    "Submissions are [evaluated](https://www.kaggle.com/competitions/recognizing-faces-in-the-wild/overview/evaluation) on area under the ROC curve between the predicted probability and the observed target. Not all pairs will be scored.\n",
    "\n",
    "**Submission File**\n",
    "\n",
    "For each img_pair in the test set, you must predict a probability for the is_related variable. The column img_pair describes the pair of images, i.e., abcdef-ghijkl means the pair of images abcdef.jpg and ghijkl.jpg.\n",
    "The file should contain a header and have the following format:\n",
    "\n",
    "```\n",
    "img_pair,is_related\n",
    "X3Nk6Hfe5x-qcZrTXsfde,0.0\n",
    "X3Nk6Hfe5x-LD0pWDM8w_,0.0\n",
    "X3Nk6Hfe5x-PHwuDtHyGp,0.0\n",
    "X3Nk6Hfe5x-LO6lN_U4ot,0.0\n",
    "...\n",
    "```"
   ]
  },
  {
   "cell_type": "code",
   "execution_count": 14,
   "metadata": {},
   "outputs": [
    {
     "name": "stdout",
     "output_type": "stream",
     "text": [
      "There are 4866 total entries in the lookup table.\n",
      "There are 11836545 total pairs in the test set.\n",
      "There are 11836545 total pairs in the test set.\n"
     ]
    }
   ],
   "source": [
    "\n",
    "from PIL import Image\n",
    "import itertools\n",
    "import os\n",
    "\n",
    "def pre_process(filename):\n",
    "    img = Image.open(filename)\n",
    "    img = transform(img)\n",
    "    img = img.unsqueeze(0)\n",
    "    return img\n",
    "\n",
    "# Create a lookup table of pre-processed test images (processed_image_tensors).\n",
    "processed_image_tensors = {}\n",
    "basenames = [os.path.splitext(file)[0] for file in os.listdir('_test-faces')]\n",
    "for basename in basenames:\n",
    "    processed_image_tensors[basename] = pre_process(testing_image_path + '/' + basename + '.jpg')\n",
    "print('There are ' + str(len(processed_image_tensors)) + ' total entries in the lookup table.')\n",
    "\n",
    "# Generate a list of all pairs of test images.\n",
    "test_pairs = list(itertools.combinations(basenames, 2))\n",
    "print('There are ' + str(len(test_pairs)) + ' total pairs in the test set.')\n"
   ]
  },
  {
   "cell_type": "code",
   "execution_count": null,
   "metadata": {},
   "outputs": [],
   "source": [
    "import csv\n",
    "import torch\n",
    "import torch.nn.functional as F\n",
    "\n",
    "def is_related(img1, img2, model):\n",
    "    with torch.no_grad():\n",
    "        output1, output2 = model(img1, img2)\n",
    "    euclidean_distance = F.pairwise_distance(output1, output2, keepdim = True)\n",
    "    probability = 1 - torch.sigmoid(euclidean_distance).item()\n",
    "    return probability\n",
    "\n",
    "filename = \"submission.csv\"\n",
    "with open(filename, 'w', newline='') as file:\n",
    "    csv_writer = csv.writer(file)\n",
    "    csv_writer.writerows([['img_pair', 'is_related']])\n",
    "\n",
    "# Evaluate the test image pairs\n",
    "model.eval()  # Set model to evaluation mode\n",
    "# Results are written in blocks to enable intermediate inspection.\n",
    "i = 0\n",
    "block_size = 10000\n",
    "results_block = []\n",
    "random.shuffle(test_pairs)\n",
    "for pair in list(test_pairs):\n",
    "    images = list(pair)\n",
    "    results_block.append([images[0] + '-' + images[1],\n",
    "                          format(is_related(processed_image_tensors[images[0]],\n",
    "                                            processed_image_tensors[images[1]],\n",
    "                                            model), '.1f'), \n",
    "                          ])\n",
    "    i = i + 1\n",
    "    if (0 == i % block_size):\n",
    "        with open(filename, 'a', newline='') as file:\n",
    "            csv_writer = csv.writer(file)\n",
    "            csv_writer.writerows(results_block)\n",
    "        results_block = []\n",
    "\n",
    "with open(filename, 'a', newline='') as file:\n",
    "    csv_writer = csv.writer(file)\n",
    "    csv_writer.writerows(results_block)\n",
    "\n"
   ]
  }
 ],
 "metadata": {
  "kaggle": {
   "accelerator": "none",
   "dataSources": [],
   "dockerImageVersionId": 30786,
   "isGpuEnabled": false,
   "isInternetEnabled": false,
   "language": "python",
   "sourceType": "notebook"
  },
  "kernelspec": {
   "display_name": "Python 3",
   "language": "python",
   "name": "python3"
  },
  "language_info": {
   "codemirror_mode": {
    "name": "ipython",
    "version": 3
   },
   "file_extension": ".py",
   "mimetype": "text/x-python",
   "name": "python",
   "nbconvert_exporter": "python",
   "pygments_lexer": "ipython3",
   "version": "3.12.7"
  }
 },
 "nbformat": 4,
 "nbformat_minor": 4
}
