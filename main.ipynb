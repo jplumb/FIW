{
 "cells": [
  {
   "cell_type": "markdown",
   "metadata": {},
   "source": [
    "## **Northeastern SMILE Lab - Recognizing Faces in the Wild**\n",
    "\n",
    "## Background\n",
    "\n",
    "The SMILE Lab at Northeastern focuses on the frontier research of applied machine learning, social media analytics, human-computer interaction, and high-level image and video understanding. Their research is driven by the explosion of diverse multimedia from the Internet, including both personal and publicly available photos and videos. They start by treating fundamental theory from learning algorithms as the soul of machine intelligence and arm it with visual perception.\n",
    "\n",
    "Northeastern University has been developing an automatic kinship classifier since 2010. However, the widespread adoption of this technology has been hindered by two primary factors:\n",
    "\n",
    "- Data Limitations: Existing image databases for kinship recognition are insufficient in size and diversity to accurately represent global familial relationships.\n",
    "\n",
    "- Model Complexity: The complex interplay of genetic and environmental factors influencing facial features necessitates a more advanced model than traditional computer vision algorithms, which are typically designed for higher-level tasks like facial recognition or object classification.\n",
    "\n",
    "## Objective\n",
    "\n",
    "Using the data provided in this competition, I built the following model to predict the probability of two individuals being related (1) based solely on a facial image of each person. "
   ]
  },
  {
   "cell_type": "markdown",
   "metadata": {},
   "source": [
    "## **Preliminaries**: Install the following Python modules."
   ]
  },
  {
   "cell_type": "code",
   "execution_count": null,
   "metadata": {},
   "outputs": [],
   "source": [
    "# If they are not already installed, this cell installs the modules used in this solution.\n",
    "%pip install os\n",
    "%pip install kaggle\n",
    "%pip install zipfile\n",
    "%pip install pandas\n",
    "%pip install matplotlib\n",
    "%pip install sklearn"
   ]
  },
  {
   "cell_type": "markdown",
   "metadata": {},
   "source": [
    "## **Step 1**: Download the official Kaggle competition data (a.k.a. FIW data).\n",
    "\n",
    "***Before executing the following cell***, please review section 7 of the rules: https://www.kaggle.com/competitions/recognizing-faces-in-the-wild/rules#7-competition-data. \n",
    "\n",
    "All usages of FIW data should cite the following papers:\n",
    "\n",
    "*Joseph P Robinson, Ming Shao, Hongfu Liu, Yue Wu, Timothy Gillis, and Yun Fu. \"Visual Kinship Recognition of Families In the Wild\" IEEE TPAMI Special Edition: Computational Face (2018).\n",
    "Joseph P Robinson, Ming Shao, Handong Zhao, Yue Wu, Timothy Gillis, Yun Fu. \"Recognizing Families In the Wild (RFIW): Data Challenge Workshop in conjunction with ACM MM 2017,\" ACM Multimedia Conference: Workshop on RFIW (2017).\n",
    "Shuyang Wang, Joseph P Robinson, and Yun Fu. “Kinship Verification on Families in the Wild with Marginalized Denoising Metric Learning,” in IEEE Automatic Face and Gesture Recognition (2017).\n",
    "Joseph P Robinson, Ming Shao, Yue Wu, and Yun Fu. “Families In the Wild (FIW): large-scale kinship image database and benchmarks.\" in ACM on Multimedia Conference (2016).*"
   ]
  },
  {
   "cell_type": "code",
   "execution_count": null,
   "metadata": {},
   "outputs": [],
   "source": [
    "import os\n",
    "import shutil\n",
    "from kaggle.api.kaggle_api_extended import KaggleApi\n",
    "import zipfile\n",
    "\n",
    "competition = 'recognizing-faces-in-the-wild' # https://www.kaggle.com/c/recognizing-faces-in-the-wild\n",
    "download_path = '_FIW-data/'\n",
    "extract_path =  '_FIW-data-extracted/'\n",
    "zip_file = os.path.join(download_path, f'{competition}.zip')\n",
    "\n",
    "print('Recreating intermediate directory: ' + download_path)\n",
    "if os.path.exists(download_path):\n",
    "    shutil.rmtree(download_path)\n",
    "os.makedirs(download_path, exist_ok=False)\n",
    "print('Downloading ' + competition + ' provided data into ' + download_path)\n",
    "api = KaggleApi()\n",
    "api.authenticate()\n",
    "api.competition_download_files(competition, path=download_path)\n",
    "\n",
    "print('Recreating intermediate directory: ' + extract_path)\n",
    "if os.path.exists(extract_path):\n",
    "    shutil.rmtree(extract_path)\n",
    "os.makedirs(extract_path, exist_ok=False)\n",
    "print('Decompressing ' + zip_file + ' into ' + extract_path)\n",
    "with zipfile.ZipFile(zip_file, 'r') as zip_ref:\n",
    "    zip_ref.extractall(extract_path)\n",
    "\n",
    "print('Data files:')\n",
    "for dirname, _, filenames in os.walk(extract_path):\n",
    "    for filename in filenames:\n",
    "        print('\\t' + os.path.join(dirname, filename))"
   ]
  },
  {
   "cell_type": "markdown",
   "metadata": {},
   "source": [
    "## **Step 2**: Extract the image portion of the provided dataset."
   ]
  },
  {
   "cell_type": "markdown",
   "metadata": {},
   "source": [
    "## **Step 3**: Preprocess the relational portion of the provided dataset.\n",
    "\n",
    "Note: All members of a family are not necessarily related (e.g., husband/wife)."
   ]
  },
  {
   "cell_type": "code",
   "execution_count": null,
   "metadata": {},
   "outputs": [],
   "source": [
    "training_set = 'train-faces'\n",
    "training_set_path = extract_path + training_set + '-extracted/'\n",
    "print('Recreating intermediate directory: ' + training_set_path)\n",
    "if os.path.exists(training_set_path):\n",
    "    shutil.rmtree(training_set_path)\n",
    "os.makedirs(training_set_path, exist_ok=False)\n",
    "print('Decompressing ' + training_set + ' into ' + training_set_path)\n",
    "with zipfile.ZipFile(extract_path + training_set + '.zip', 'r') as zip_ref:\n",
    "    zip_ref.extractall(training_set_path)\n",
    "print('Training image set:')\n",
    "for dirname, _, filenames in os.walk(training_set_path):\n",
    "    for filename in filenames:\n",
    "        print('\\t' + os.path.join(dirname, filename))"
   ]
  },
  {
   "cell_type": "code",
   "execution_count": null,
   "metadata": {},
   "outputs": [],
   "source": [
    "import pandas\n",
    "ground_truth = pandas.read_csv(extract_path + 'train_relationships.csv', delimiter=',', header='infer')\n",
    "print('Taining images which are related:')\n",
    "print(ground_truth)"
   ]
  },
  {
   "cell_type": "code",
   "execution_count": null,
   "metadata": {},
   "outputs": [],
   "source": []
  },
  {
   "cell_type": "markdown",
   "metadata": {},
   "source": [
    "## **Step 3**: Evaluation (https://www.kaggle.com/competitions/recognizing-faces-in-the-wild/overview/evaluation)\n",
    "Submissions are evaluated on area under the ROC curve between the predicted probability and the observed target. Not all pairs will be scored.\n",
    "\n",
    "**Submission File**\n",
    "\n",
    "For each img_pair in the test set, you must predict a probability for the is_related variable. The column img_pair describes the pair of images, i.e., abcdef-ghijkl means the pair of images abcdef.jpg and ghijkl.jpg.\n",
    "The file should contain a header and have the following format:\n",
    "\n",
    "```\n",
    "img_pair,is_related\n",
    "X3Nk6Hfe5x-qcZrTXsfde,0.0\n",
    "X3Nk6Hfe5x-LD0pWDM8w_,0.0\n",
    "X3Nk6Hfe5x-PHwuDtHyGp,0.0\n",
    "X3Nk6Hfe5x-LO6lN_U4ot,0.0\n",
    "...\n",
    "```"
   ]
  },
  {
   "cell_type": "code",
   "execution_count": null,
   "metadata": {},
   "outputs": [],
   "source": [
    "results = [\n",
    "    {\"true_label\": 1, \"predicted_prob\": 0.8},\n",
    "    {\"true_label\": 0, \"predicted_prob\": 0.2},\n",
    "    {\"true_label\": 1, \"predicted_prob\": 0.7},\n",
    "    {\"true_label\": 0, \"predicted_prob\": 0.3},\n",
    "    {\"true_label\": 0, \"predicted_prob\": 0.8},\n",
    "    {\"true_label\": 0, \"predicted_prob\": 0.2},\n",
    "    {\"true_label\": 1, \"predicted_prob\": 0.7},\n",
    "    {\"true_label\": 1, \"predicted_prob\": 0.3},\n",
    "]"
   ]
  },
  {
   "cell_type": "code",
   "execution_count": null,
   "metadata": {},
   "outputs": [],
   "source": []
  },
  {
   "cell_type": "code",
   "execution_count": null,
   "metadata": {},
   "outputs": [],
   "source": [
    "import matplotlib.pyplot as plt\n",
    "from sklearn.metrics import roc_curve, auc\n",
    "\n",
    "def generate_roc_curve(data):\n",
    "  true_labels = [d['true_label'] for d in data]\n",
    "  print(true_labels)\n",
    "  predicted_probs = [d['predicted_prob'] for d in data]\n",
    "  fpr, tpr, _ = roc_curve(true_labels, predicted_probs)\n",
    "  roc_auc = auc(fpr, tpr)\n",
    "  plt.figure()\n",
    "  plt.plot(fpr, tpr, color='darkorange', label='ROC curve (area = %0.2f)' % roc_auc)\n",
    "  plt.plot([0, 1], [0, 1], color='navy', linestyle='--')\n",
    "  plt.xlim([0.0, 1.0])\n",
    "  plt.ylim([0.0, 1.05])\n",
    "  plt.xlabel('False Positive Rate')\n",
    "  plt.ylabel('True Positive Rate')\n",
    "  plt.title('Receiver Operating Characteristic (ROC) Curve')\n",
    "  plt.legend(loc=\"lower right\")\n",
    "  return plt\n",
    "    \n",
    "generate_roc_curve(results).show()"
   ]
  }
 ],
 "metadata": {
  "kaggle": {
   "accelerator": "none",
   "dataSources": [],
   "dockerImageVersionId": 30786,
   "isGpuEnabled": false,
   "isInternetEnabled": false,
   "language": "python",
   "sourceType": "notebook"
  },
  "kernelspec": {
   "display_name": "Python 3",
   "language": "python",
   "name": "python3"
  },
  "language_info": {
   "codemirror_mode": {
    "name": "ipython",
    "version": 3
   },
   "file_extension": ".py",
   "mimetype": "text/x-python",
   "name": "python",
   "nbconvert_exporter": "python",
   "pygments_lexer": "ipython3",
   "version": "3.12.7"
  }
 },
 "nbformat": 4,
 "nbformat_minor": 4
}
